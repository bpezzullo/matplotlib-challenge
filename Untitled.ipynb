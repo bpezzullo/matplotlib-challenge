{
 "cells": [
  {
   "cell_type": "code",
   "execution_count": 1,
   "metadata": {},
   "outputs": [
    {
     "name": "stdout",
     "output_type": "stream",
     "text": [
      "True\n",
      "\n",
      "  Student           Date\n",
      "0     Joe  December 2017\n",
      "1     Bob     April 2018\n",
      "\n",
      "  Student           Date\n",
      "0     Joe  December 2017\n",
      "1     Bob     April 2018\n"
     ]
    }
   ],
   "source": [
    "import pandas as pd\n",
    "import io\n",
    "\n",
    "data = '''\\\n",
    "Student,Date\n",
    "Joe,December 2017\n",
    "Bob,April 2018\n",
    "Joe,December 2018'''\n",
    "\n",
    "df = pd.read_csv(io.StringIO(data), sep=',')\n",
    "\n",
    "# Approach 1: Simple True/False\n",
    "boolean = df.duplicated(subset=['Student']).any()\n",
    "print(boolean, end='\\n\\n') # True\n",
    "\n",
    "# Approach 2: First store boolean array, check then remove\n",
    "duplicate_in_student = df.duplicated(subset=['Student'])\n",
    "if duplicate_in_student.any():\n",
    "    print(df.loc[~duplicate_in_student], end='\\n\\n')\n",
    "\n",
    "# Approach 3: Use drop_duplicates method\n",
    "df.drop_duplicates(subset=['Student'], inplace=True)\n",
    "print(df)"
   ]
  },
  {
   "cell_type": "code",
   "execution_count": null,
   "metadata": {},
   "outputs": [],
   "source": []
  }
 ],
 "metadata": {
  "kernelspec": {
   "display_name": "Python [conda env:PythonData] *",
   "language": "python",
   "name": "conda-env-PythonData-py"
  },
  "language_info": {
   "codemirror_mode": {
    "name": "ipython",
    "version": 3
   },
   "file_extension": ".py",
   "mimetype": "text/x-python",
   "name": "python",
   "nbconvert_exporter": "python",
   "pygments_lexer": "ipython3",
   "version": "3.6.10"
  }
 },
 "nbformat": 4,
 "nbformat_minor": 4
}
