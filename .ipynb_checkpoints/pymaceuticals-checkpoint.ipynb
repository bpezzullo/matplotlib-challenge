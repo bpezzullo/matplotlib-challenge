{
 "cells": [
  {
   "cell_type": "markdown",
   "metadata": {},
   "source": [
    "## Observations and Insights "
   ]
  },
  {
   "cell_type": "markdown",
   "metadata": {},
   "source": []
  },
  {
   "cell_type": "code",
   "execution_count": 55,
   "metadata": {},
   "outputs": [
    {
     "name": "stdout",
     "output_type": "stream",
     "text": [
      "Index(['Mouse ID', 'Drug Regimen', 'Sex', 'Age_months', 'Weight (g)'], dtype='object')\n",
      "Index(['Mouse ID', 'Timepoint', 'Tumor Volume (mm3)', 'Metastatic Sites',\n",
      "       'Drug Regimen', 'Sex', 'Age_months', 'Weight (g)'],\n",
      "      dtype='object')\n"
     ]
    }
   ],
   "source": [
    "# Dependencies and Setup\n",
    "import matplotlib.pyplot as plt\n",
    "import pandas as pd\n",
    "import scipy.stats as st\n",
    "import numpy as np\n",
    "import seaborn as sns\n",
    "from sklearn import datasets\n",
    "from scipy.stats import linregress\n",
    "\n",
    "# Study data files\n",
    "mouse_metadata_path = \"data/Mouse_metadata.csv\"\n",
    "study_results_path = \"data/Study_results.csv\"\n",
    "\n",
    "# Read the mouse data and the study results\n",
    "mouse_metadata = pd.read_csv(mouse_metadata_path)\n",
    "study_results = pd.read_csv(study_results_path)\n",
    "\n",
    "# Combine the data into a single dataset\n",
    "print(mouse_metadata.columns)\n",
    "study_results.head(20)\n",
    "\n",
    "# Print out the columns for my convience\n",
    "mouse_study_data = pd.merge(study_results,mouse_metadata,on='Mouse ID',how='left')\n",
    "print(mouse_study_data.columns)\n"
   ]
  },
  {
   "cell_type": "code",
   "execution_count": 2,
   "metadata": {},
   "outputs": [
    {
     "name": "stdout",
     "output_type": "stream",
     "text": [
      "Number of unique mice:  249\n",
      "Number of mice in data frame:  1893\n"
     ]
    }
   ],
   "source": [
    "# Checking the number of mice in the DataFrame.\n",
    "# Print out the number of unique mice and the number of rows\n",
    "print(\"Number of unique mice:  \" + str(mouse_study_data['Mouse ID'].nunique()))\n",
    "print(\"Number of mice in data frame:  \" + str(mouse_study_data['Mouse ID'].count()))"
   ]
  },
  {
   "cell_type": "code",
   "execution_count": 3,
   "metadata": {},
   "outputs": [
    {
     "name": "stdout",
     "output_type": "stream",
     "text": [
      "['Duplicate Mouse ID(s) is(are)  >:g989']\n"
     ]
    }
   ],
   "source": [
    "# Getting the duplicate mice by ID number that shows up for Mouse ID and Timepoint. \n",
    "# use the duplicate function on rows with the same Mouse ID and timepoint\n",
    "\n",
    "duplicate_mice = mouse_study_data.duplicated(subset=['Mouse ID','Timepoint'])\n",
    "\n",
    "#If duplicates are found printth emouse ID and save the ID to the variable duplicate_list\n",
    "if duplicate_mice.any():\n",
    "        print(\"Duplicate Mouse ID(s) is(are)  >:\" + mouse_study_data.loc[duplicate_mice]['Mouse ID'].unique())\n",
    "        duplicate_list = mouse_study_data.loc[duplicate_mice]['Mouse ID'].tolist()"
   ]
  },
  {
   "cell_type": "code",
   "execution_count": 4,
   "metadata": {},
   "outputs": [
    {
     "data": {
      "text/html": [
       "<div>\n",
       "<style scoped>\n",
       "    .dataframe tbody tr th:only-of-type {\n",
       "        vertical-align: middle;\n",
       "    }\n",
       "\n",
       "    .dataframe tbody tr th {\n",
       "        vertical-align: top;\n",
       "    }\n",
       "\n",
       "    .dataframe thead th {\n",
       "        text-align: right;\n",
       "    }\n",
       "</style>\n",
       "<table border=\"1\" class=\"dataframe\">\n",
       "  <thead>\n",
       "    <tr style=\"text-align: right;\">\n",
       "      <th></th>\n",
       "      <th>Timepoint</th>\n",
       "      <th>Tumor Volume (mm3)</th>\n",
       "      <th>Metastatic Sites</th>\n",
       "      <th>Drug Regimen</th>\n",
       "      <th>Sex</th>\n",
       "      <th>Age_months</th>\n",
       "      <th>Weight (g)</th>\n",
       "    </tr>\n",
       "    <tr>\n",
       "      <th>Mouse ID</th>\n",
       "      <th></th>\n",
       "      <th></th>\n",
       "      <th></th>\n",
       "      <th></th>\n",
       "      <th></th>\n",
       "      <th></th>\n",
       "      <th></th>\n",
       "    </tr>\n",
       "  </thead>\n",
       "  <tbody>\n",
       "    <tr>\n",
       "      <th>g989</th>\n",
       "      <td>0</td>\n",
       "      <td>45.000000</td>\n",
       "      <td>0</td>\n",
       "      <td>Propriva</td>\n",
       "      <td>Female</td>\n",
       "      <td>21</td>\n",
       "      <td>26</td>\n",
       "    </tr>\n",
       "    <tr>\n",
       "      <th>g989</th>\n",
       "      <td>0</td>\n",
       "      <td>45.000000</td>\n",
       "      <td>0</td>\n",
       "      <td>Propriva</td>\n",
       "      <td>Female</td>\n",
       "      <td>21</td>\n",
       "      <td>26</td>\n",
       "    </tr>\n",
       "    <tr>\n",
       "      <th>g989</th>\n",
       "      <td>5</td>\n",
       "      <td>48.786801</td>\n",
       "      <td>0</td>\n",
       "      <td>Propriva</td>\n",
       "      <td>Female</td>\n",
       "      <td>21</td>\n",
       "      <td>26</td>\n",
       "    </tr>\n",
       "    <tr>\n",
       "      <th>g989</th>\n",
       "      <td>5</td>\n",
       "      <td>47.570392</td>\n",
       "      <td>0</td>\n",
       "      <td>Propriva</td>\n",
       "      <td>Female</td>\n",
       "      <td>21</td>\n",
       "      <td>26</td>\n",
       "    </tr>\n",
       "    <tr>\n",
       "      <th>g989</th>\n",
       "      <td>10</td>\n",
       "      <td>51.745156</td>\n",
       "      <td>0</td>\n",
       "      <td>Propriva</td>\n",
       "      <td>Female</td>\n",
       "      <td>21</td>\n",
       "      <td>26</td>\n",
       "    </tr>\n",
       "    <tr>\n",
       "      <th>...</th>\n",
       "      <td>...</td>\n",
       "      <td>...</td>\n",
       "      <td>...</td>\n",
       "      <td>...</td>\n",
       "      <td>...</td>\n",
       "      <td>...</td>\n",
       "      <td>...</td>\n",
       "    </tr>\n",
       "    <tr>\n",
       "      <th>g989</th>\n",
       "      <td>20</td>\n",
       "      <td>55.326122</td>\n",
       "      <td>1</td>\n",
       "      <td>Propriva</td>\n",
       "      <td>Female</td>\n",
       "      <td>21</td>\n",
       "      <td>26</td>\n",
       "    </tr>\n",
       "    <tr>\n",
       "      <th>g989</th>\n",
       "      <td>20</td>\n",
       "      <td>54.657650</td>\n",
       "      <td>1</td>\n",
       "      <td>Propriva</td>\n",
       "      <td>Female</td>\n",
       "      <td>21</td>\n",
       "      <td>26</td>\n",
       "    </tr>\n",
       "    <tr>\n",
       "      <th>g989</th>\n",
       "      <td>25</td>\n",
       "      <td>56.045564</td>\n",
       "      <td>1</td>\n",
       "      <td>Propriva</td>\n",
       "      <td>Female</td>\n",
       "      <td>21</td>\n",
       "      <td>26</td>\n",
       "    </tr>\n",
       "    <tr>\n",
       "      <th>g989</th>\n",
       "      <td>30</td>\n",
       "      <td>59.082294</td>\n",
       "      <td>1</td>\n",
       "      <td>Propriva</td>\n",
       "      <td>Female</td>\n",
       "      <td>21</td>\n",
       "      <td>26</td>\n",
       "    </tr>\n",
       "    <tr>\n",
       "      <th>g989</th>\n",
       "      <td>35</td>\n",
       "      <td>62.570880</td>\n",
       "      <td>2</td>\n",
       "      <td>Propriva</td>\n",
       "      <td>Female</td>\n",
       "      <td>21</td>\n",
       "      <td>26</td>\n",
       "    </tr>\n",
       "  </tbody>\n",
       "</table>\n",
       "<p>65 rows × 7 columns</p>\n",
       "</div>"
      ],
      "text/plain": [
       "          Timepoint  Tumor Volume (mm3)  Metastatic Sites Drug Regimen  \\\n",
       "Mouse ID                                                                 \n",
       "g989              0           45.000000                 0     Propriva   \n",
       "g989              0           45.000000                 0     Propriva   \n",
       "g989              5           48.786801                 0     Propriva   \n",
       "g989              5           47.570392                 0     Propriva   \n",
       "g989             10           51.745156                 0     Propriva   \n",
       "...             ...                 ...               ...          ...   \n",
       "g989             20           55.326122                 1     Propriva   \n",
       "g989             20           54.657650                 1     Propriva   \n",
       "g989             25           56.045564                 1     Propriva   \n",
       "g989             30           59.082294                 1     Propriva   \n",
       "g989             35           62.570880                 2     Propriva   \n",
       "\n",
       "             Sex  Age_months  Weight (g)  \n",
       "Mouse ID                                  \n",
       "g989      Female          21          26  \n",
       "g989      Female          21          26  \n",
       "g989      Female          21          26  \n",
       "g989      Female          21          26  \n",
       "g989      Female          21          26  \n",
       "...          ...         ...         ...  \n",
       "g989      Female          21          26  \n",
       "g989      Female          21          26  \n",
       "g989      Female          21          26  \n",
       "g989      Female          21          26  \n",
       "g989      Female          21          26  \n",
       "\n",
       "[65 rows x 7 columns]"
      ]
     },
     "execution_count": 4,
     "metadata": {},
     "output_type": "execute_result"
    }
   ],
   "source": [
    "# Optional: Get all the data for the duplicate mouse ID. \n",
    "# using the variable duplicate_list and creating an index on the column Mouse ID, display the rows associated with the mouse.\n",
    "# \n",
    "mouse_study_temp = mouse_study_data.set_index('Mouse ID')\n",
    "\n",
    "\n",
    "mouse_study_temp.loc[duplicate_list]\n",
    "\n"
   ]
  },
  {
   "cell_type": "code",
   "execution_count": 5,
   "metadata": {},
   "outputs": [
    {
     "data": {
      "text/html": [
       "<div>\n",
       "<style scoped>\n",
       "    .dataframe tbody tr th:only-of-type {\n",
       "        vertical-align: middle;\n",
       "    }\n",
       "\n",
       "    .dataframe tbody tr th {\n",
       "        vertical-align: top;\n",
       "    }\n",
       "\n",
       "    .dataframe thead th {\n",
       "        text-align: right;\n",
       "    }\n",
       "</style>\n",
       "<table border=\"1\" class=\"dataframe\">\n",
       "  <thead>\n",
       "    <tr style=\"text-align: right;\">\n",
       "      <th></th>\n",
       "      <th>Mouse ID</th>\n",
       "      <th>Timepoint</th>\n",
       "      <th>Tumor Volume (mm3)</th>\n",
       "      <th>Metastatic Sites</th>\n",
       "      <th>Drug Regimen</th>\n",
       "      <th>Sex</th>\n",
       "      <th>Age_months</th>\n",
       "      <th>Weight (g)</th>\n",
       "    </tr>\n",
       "  </thead>\n",
       "  <tbody>\n",
       "    <tr>\n",
       "      <th>0</th>\n",
       "      <td>b128</td>\n",
       "      <td>0</td>\n",
       "      <td>45.000000</td>\n",
       "      <td>0</td>\n",
       "      <td>Capomulin</td>\n",
       "      <td>Female</td>\n",
       "      <td>9</td>\n",
       "      <td>22</td>\n",
       "    </tr>\n",
       "    <tr>\n",
       "      <th>1</th>\n",
       "      <td>f932</td>\n",
       "      <td>0</td>\n",
       "      <td>45.000000</td>\n",
       "      <td>0</td>\n",
       "      <td>Ketapril</td>\n",
       "      <td>Male</td>\n",
       "      <td>15</td>\n",
       "      <td>29</td>\n",
       "    </tr>\n",
       "    <tr>\n",
       "      <th>2</th>\n",
       "      <td>g107</td>\n",
       "      <td>0</td>\n",
       "      <td>45.000000</td>\n",
       "      <td>0</td>\n",
       "      <td>Ketapril</td>\n",
       "      <td>Female</td>\n",
       "      <td>2</td>\n",
       "      <td>29</td>\n",
       "    </tr>\n",
       "    <tr>\n",
       "      <th>3</th>\n",
       "      <td>a457</td>\n",
       "      <td>0</td>\n",
       "      <td>45.000000</td>\n",
       "      <td>0</td>\n",
       "      <td>Ketapril</td>\n",
       "      <td>Female</td>\n",
       "      <td>11</td>\n",
       "      <td>30</td>\n",
       "    </tr>\n",
       "    <tr>\n",
       "      <th>4</th>\n",
       "      <td>c819</td>\n",
       "      <td>0</td>\n",
       "      <td>45.000000</td>\n",
       "      <td>0</td>\n",
       "      <td>Ketapril</td>\n",
       "      <td>Male</td>\n",
       "      <td>21</td>\n",
       "      <td>25</td>\n",
       "    </tr>\n",
       "    <tr>\n",
       "      <th>...</th>\n",
       "      <td>...</td>\n",
       "      <td>...</td>\n",
       "      <td>...</td>\n",
       "      <td>...</td>\n",
       "      <td>...</td>\n",
       "      <td>...</td>\n",
       "      <td>...</td>\n",
       "      <td>...</td>\n",
       "    </tr>\n",
       "    <tr>\n",
       "      <th>1888</th>\n",
       "      <td>r944</td>\n",
       "      <td>45</td>\n",
       "      <td>41.581521</td>\n",
       "      <td>2</td>\n",
       "      <td>Capomulin</td>\n",
       "      <td>Male</td>\n",
       "      <td>12</td>\n",
       "      <td>25</td>\n",
       "    </tr>\n",
       "    <tr>\n",
       "      <th>1889</th>\n",
       "      <td>u364</td>\n",
       "      <td>45</td>\n",
       "      <td>31.023923</td>\n",
       "      <td>3</td>\n",
       "      <td>Capomulin</td>\n",
       "      <td>Male</td>\n",
       "      <td>18</td>\n",
       "      <td>17</td>\n",
       "    </tr>\n",
       "    <tr>\n",
       "      <th>1890</th>\n",
       "      <td>p438</td>\n",
       "      <td>45</td>\n",
       "      <td>61.433892</td>\n",
       "      <td>1</td>\n",
       "      <td>Ceftamin</td>\n",
       "      <td>Female</td>\n",
       "      <td>11</td>\n",
       "      <td>26</td>\n",
       "    </tr>\n",
       "    <tr>\n",
       "      <th>1891</th>\n",
       "      <td>x773</td>\n",
       "      <td>45</td>\n",
       "      <td>58.634971</td>\n",
       "      <td>4</td>\n",
       "      <td>Placebo</td>\n",
       "      <td>Female</td>\n",
       "      <td>21</td>\n",
       "      <td>30</td>\n",
       "    </tr>\n",
       "    <tr>\n",
       "      <th>1892</th>\n",
       "      <td>b879</td>\n",
       "      <td>45</td>\n",
       "      <td>72.555239</td>\n",
       "      <td>2</td>\n",
       "      <td>Stelasyn</td>\n",
       "      <td>Female</td>\n",
       "      <td>4</td>\n",
       "      <td>26</td>\n",
       "    </tr>\n",
       "  </tbody>\n",
       "</table>\n",
       "<p>1888 rows × 8 columns</p>\n",
       "</div>"
      ],
      "text/plain": [
       "     Mouse ID  Timepoint  Tumor Volume (mm3)  Metastatic Sites Drug Regimen  \\\n",
       "0        b128          0           45.000000                 0    Capomulin   \n",
       "1        f932          0           45.000000                 0     Ketapril   \n",
       "2        g107          0           45.000000                 0     Ketapril   \n",
       "3        a457          0           45.000000                 0     Ketapril   \n",
       "4        c819          0           45.000000                 0     Ketapril   \n",
       "...       ...        ...                 ...               ...          ...   \n",
       "1888     r944         45           41.581521                 2    Capomulin   \n",
       "1889     u364         45           31.023923                 3    Capomulin   \n",
       "1890     p438         45           61.433892                 1     Ceftamin   \n",
       "1891     x773         45           58.634971                 4      Placebo   \n",
       "1892     b879         45           72.555239                 2     Stelasyn   \n",
       "\n",
       "         Sex  Age_months  Weight (g)  \n",
       "0     Female           9          22  \n",
       "1       Male          15          29  \n",
       "2     Female           2          29  \n",
       "3     Female          11          30  \n",
       "4       Male          21          25  \n",
       "...      ...         ...         ...  \n",
       "1888    Male          12          25  \n",
       "1889    Male          18          17  \n",
       "1890  Female          11          26  \n",
       "1891  Female          21          30  \n",
       "1892  Female           4          26  \n",
       "\n",
       "[1888 rows x 8 columns]"
      ]
     },
     "execution_count": 5,
     "metadata": {},
     "output_type": "execute_result"
    }
   ],
   "source": [
    "# Create a clean DataFrame by dropping the duplicate mouse by its ID.\n",
    "clean_mouse_data = mouse_study_data.drop_duplicates(subset=['Mouse ID','Timepoint'])\n",
    "clean_mouse_data\n"
   ]
  },
  {
   "cell_type": "code",
   "execution_count": 6,
   "metadata": {},
   "outputs": [
    {
     "name": "stdout",
     "output_type": "stream",
     "text": [
      "No duplicates\n",
      "Number of unique mice:  249\n",
      "Number of mice in data frame:  1888\n"
     ]
    }
   ],
   "source": [
    "# Checking the number of mice in the clean DataFrame.\n",
    "duplicate_mice2 = clean_mouse_data.duplicated(subset=['Mouse ID','Timepoint'])\n",
    "\n",
    "if ~duplicate_mice2.any():\n",
    "        print(\"No duplicates\")\n",
    "\n",
    "print(\"Number of unique mice:  \" + str(clean_mouse_data['Mouse ID'].nunique()))\n",
    "print(\"Number of mice in data frame:  \" + str(clean_mouse_data['Mouse ID'].count()))"
   ]
  },
  {
   "cell_type": "markdown",
   "metadata": {},
   "source": [
    "## Summary Statistics"
   ]
  },
  {
   "cell_type": "code",
   "execution_count": 7,
   "metadata": {},
   "outputs": [
    {
     "data": {
      "text/html": [
       "<div>\n",
       "<style scoped>\n",
       "    .dataframe tbody tr th:only-of-type {\n",
       "        vertical-align: middle;\n",
       "    }\n",
       "\n",
       "    .dataframe tbody tr th {\n",
       "        vertical-align: top;\n",
       "    }\n",
       "\n",
       "    .dataframe thead th {\n",
       "        text-align: right;\n",
       "    }\n",
       "</style>\n",
       "<table border=\"1\" class=\"dataframe\">\n",
       "  <thead>\n",
       "    <tr style=\"text-align: right;\">\n",
       "      <th></th>\n",
       "      <th>Mean</th>\n",
       "      <th>Median</th>\n",
       "      <th>variance</th>\n",
       "      <th>Standard Deviation</th>\n",
       "      <th>SEM</th>\n",
       "    </tr>\n",
       "    <tr>\n",
       "      <th>Drug Regimen</th>\n",
       "      <th></th>\n",
       "      <th></th>\n",
       "      <th></th>\n",
       "      <th></th>\n",
       "      <th></th>\n",
       "    </tr>\n",
       "  </thead>\n",
       "  <tbody>\n",
       "    <tr>\n",
       "      <th>Capomulin</th>\n",
       "      <td>40.675741</td>\n",
       "      <td>41.557809</td>\n",
       "      <td>24.947764</td>\n",
       "      <td>4.994774</td>\n",
       "      <td>0.329346</td>\n",
       "    </tr>\n",
       "    <tr>\n",
       "      <th>Ceftamin</th>\n",
       "      <td>52.591172</td>\n",
       "      <td>51.776157</td>\n",
       "      <td>39.290177</td>\n",
       "      <td>6.268188</td>\n",
       "      <td>0.469821</td>\n",
       "    </tr>\n",
       "    <tr>\n",
       "      <th>Infubinol</th>\n",
       "      <td>52.884795</td>\n",
       "      <td>51.820584</td>\n",
       "      <td>43.128684</td>\n",
       "      <td>6.567243</td>\n",
       "      <td>0.492236</td>\n",
       "    </tr>\n",
       "    <tr>\n",
       "      <th>Ketapril</th>\n",
       "      <td>55.235638</td>\n",
       "      <td>53.698743</td>\n",
       "      <td>68.553577</td>\n",
       "      <td>8.279709</td>\n",
       "      <td>0.603860</td>\n",
       "    </tr>\n",
       "    <tr>\n",
       "      <th>Naftisol</th>\n",
       "      <td>54.331565</td>\n",
       "      <td>52.509285</td>\n",
       "      <td>66.173479</td>\n",
       "      <td>8.134708</td>\n",
       "      <td>0.596466</td>\n",
       "    </tr>\n",
       "    <tr>\n",
       "      <th>Placebo</th>\n",
       "      <td>54.033581</td>\n",
       "      <td>52.288934</td>\n",
       "      <td>61.168083</td>\n",
       "      <td>7.821003</td>\n",
       "      <td>0.581331</td>\n",
       "    </tr>\n",
       "    <tr>\n",
       "      <th>Propriva</th>\n",
       "      <td>52.393463</td>\n",
       "      <td>50.909965</td>\n",
       "      <td>43.138803</td>\n",
       "      <td>6.568014</td>\n",
       "      <td>0.525862</td>\n",
       "    </tr>\n",
       "    <tr>\n",
       "      <th>Ramicane</th>\n",
       "      <td>40.216745</td>\n",
       "      <td>40.673236</td>\n",
       "      <td>23.486704</td>\n",
       "      <td>4.846308</td>\n",
       "      <td>0.320955</td>\n",
       "    </tr>\n",
       "    <tr>\n",
       "      <th>Stelasyn</th>\n",
       "      <td>54.233149</td>\n",
       "      <td>52.431737</td>\n",
       "      <td>59.450562</td>\n",
       "      <td>7.710419</td>\n",
       "      <td>0.573111</td>\n",
       "    </tr>\n",
       "    <tr>\n",
       "      <th>Zoniferol</th>\n",
       "      <td>53.236507</td>\n",
       "      <td>51.818479</td>\n",
       "      <td>48.533355</td>\n",
       "      <td>6.966589</td>\n",
       "      <td>0.516398</td>\n",
       "    </tr>\n",
       "  </tbody>\n",
       "</table>\n",
       "</div>"
      ],
      "text/plain": [
       "                   Mean     Median   variance  Standard Deviation       SEM\n",
       "Drug Regimen                                                               \n",
       "Capomulin     40.675741  41.557809  24.947764            4.994774  0.329346\n",
       "Ceftamin      52.591172  51.776157  39.290177            6.268188  0.469821\n",
       "Infubinol     52.884795  51.820584  43.128684            6.567243  0.492236\n",
       "Ketapril      55.235638  53.698743  68.553577            8.279709  0.603860\n",
       "Naftisol      54.331565  52.509285  66.173479            8.134708  0.596466\n",
       "Placebo       54.033581  52.288934  61.168083            7.821003  0.581331\n",
       "Propriva      52.393463  50.909965  43.138803            6.568014  0.525862\n",
       "Ramicane      40.216745  40.673236  23.486704            4.846308  0.320955\n",
       "Stelasyn      54.233149  52.431737  59.450562            7.710419  0.573111\n",
       "Zoniferol     53.236507  51.818479  48.533355            6.966589  0.516398"
      ]
     },
     "execution_count": 7,
     "metadata": {},
     "output_type": "execute_result"
    }
   ],
   "source": [
    "# Generate a summary statistics table of mean, median, variance, standard deviation, and SEM of the tumor volume for each regimen\n",
    "\n",
    "# This method is the most straightforward, creating multiple series and putting them all together at the end.\n",
    "# Once the series are created, than put them into a Dataframe and display the information.\n",
    "\n",
    "regimen_summary_grp =  clean_mouse_data.groupby('Drug Regimen')\n",
    "regimen_summ_grp_mean = regimen_summary_grp['Tumor Volume (mm3)'].mean()\n",
    "regimen_summ_grp_median = regimen_summary_grp['Tumor Volume (mm3)'].median()\n",
    "regimen_summ_grp_var = regimen_summary_grp['Tumor Volume (mm3)'].var()\n",
    "regimen_summ_grp_std = regimen_summary_grp['Tumor Volume (mm3)'].std()\n",
    "regimen_summ_grp_sem = regimen_summary_grp['Tumor Volume (mm3)'].sem()\n",
    "regimen_summaryA = pd.DataFrame({'Mean' : regimen_summ_grp_mean,\n",
    "                                'Median' : regimen_summ_grp_median,\n",
    "                                'variance' : regimen_summ_grp_var,\n",
    "                                'Standard Deviation' : regimen_summ_grp_std,\n",
    "                                'SEM' : regimen_summ_grp_sem})\n",
    "regimen_summaryA"
   ]
  },
  {
   "cell_type": "code",
   "execution_count": 8,
   "metadata": {
    "scrolled": true
   },
   "outputs": [
    {
     "data": {
      "text/html": [
       "<div>\n",
       "<style scoped>\n",
       "    .dataframe tbody tr th:only-of-type {\n",
       "        vertical-align: middle;\n",
       "    }\n",
       "\n",
       "    .dataframe tbody tr th {\n",
       "        vertical-align: top;\n",
       "    }\n",
       "\n",
       "    .dataframe thead tr th {\n",
       "        text-align: left;\n",
       "    }\n",
       "\n",
       "    .dataframe thead tr:last-of-type th {\n",
       "        text-align: right;\n",
       "    }\n",
       "</style>\n",
       "<table border=\"1\" class=\"dataframe\">\n",
       "  <thead>\n",
       "    <tr>\n",
       "      <th></th>\n",
       "      <th colspan=\"5\" halign=\"left\">Tumor Volume (mm3)</th>\n",
       "    </tr>\n",
       "    <tr>\n",
       "      <th></th>\n",
       "      <th>mean</th>\n",
       "      <th>median</th>\n",
       "      <th>var</th>\n",
       "      <th>std</th>\n",
       "      <th>sem</th>\n",
       "    </tr>\n",
       "    <tr>\n",
       "      <th>Drug Regimen</th>\n",
       "      <th></th>\n",
       "      <th></th>\n",
       "      <th></th>\n",
       "      <th></th>\n",
       "      <th></th>\n",
       "    </tr>\n",
       "  </thead>\n",
       "  <tbody>\n",
       "    <tr>\n",
       "      <th>Capomulin</th>\n",
       "      <td>40.675741</td>\n",
       "      <td>41.557809</td>\n",
       "      <td>24.947764</td>\n",
       "      <td>4.994774</td>\n",
       "      <td>0.329346</td>\n",
       "    </tr>\n",
       "    <tr>\n",
       "      <th>Ceftamin</th>\n",
       "      <td>52.591172</td>\n",
       "      <td>51.776157</td>\n",
       "      <td>39.290177</td>\n",
       "      <td>6.268188</td>\n",
       "      <td>0.469821</td>\n",
       "    </tr>\n",
       "    <tr>\n",
       "      <th>Infubinol</th>\n",
       "      <td>52.884795</td>\n",
       "      <td>51.820584</td>\n",
       "      <td>43.128684</td>\n",
       "      <td>6.567243</td>\n",
       "      <td>0.492236</td>\n",
       "    </tr>\n",
       "    <tr>\n",
       "      <th>Ketapril</th>\n",
       "      <td>55.235638</td>\n",
       "      <td>53.698743</td>\n",
       "      <td>68.553577</td>\n",
       "      <td>8.279709</td>\n",
       "      <td>0.603860</td>\n",
       "    </tr>\n",
       "    <tr>\n",
       "      <th>Naftisol</th>\n",
       "      <td>54.331565</td>\n",
       "      <td>52.509285</td>\n",
       "      <td>66.173479</td>\n",
       "      <td>8.134708</td>\n",
       "      <td>0.596466</td>\n",
       "    </tr>\n",
       "    <tr>\n",
       "      <th>Placebo</th>\n",
       "      <td>54.033581</td>\n",
       "      <td>52.288934</td>\n",
       "      <td>61.168083</td>\n",
       "      <td>7.821003</td>\n",
       "      <td>0.581331</td>\n",
       "    </tr>\n",
       "    <tr>\n",
       "      <th>Propriva</th>\n",
       "      <td>52.393463</td>\n",
       "      <td>50.909965</td>\n",
       "      <td>43.138803</td>\n",
       "      <td>6.568014</td>\n",
       "      <td>0.525862</td>\n",
       "    </tr>\n",
       "    <tr>\n",
       "      <th>Ramicane</th>\n",
       "      <td>40.216745</td>\n",
       "      <td>40.673236</td>\n",
       "      <td>23.486704</td>\n",
       "      <td>4.846308</td>\n",
       "      <td>0.320955</td>\n",
       "    </tr>\n",
       "    <tr>\n",
       "      <th>Stelasyn</th>\n",
       "      <td>54.233149</td>\n",
       "      <td>52.431737</td>\n",
       "      <td>59.450562</td>\n",
       "      <td>7.710419</td>\n",
       "      <td>0.573111</td>\n",
       "    </tr>\n",
       "    <tr>\n",
       "      <th>Zoniferol</th>\n",
       "      <td>53.236507</td>\n",
       "      <td>51.818479</td>\n",
       "      <td>48.533355</td>\n",
       "      <td>6.966589</td>\n",
       "      <td>0.516398</td>\n",
       "    </tr>\n",
       "  </tbody>\n",
       "</table>\n",
       "</div>"
      ],
      "text/plain": [
       "             Tumor Volume (mm3)                                          \n",
       "                           mean     median        var       std       sem\n",
       "Drug Regimen                                                             \n",
       "Capomulin             40.675741  41.557809  24.947764  4.994774  0.329346\n",
       "Ceftamin              52.591172  51.776157  39.290177  6.268188  0.469821\n",
       "Infubinol             52.884795  51.820584  43.128684  6.567243  0.492236\n",
       "Ketapril              55.235638  53.698743  68.553577  8.279709  0.603860\n",
       "Naftisol              54.331565  52.509285  66.173479  8.134708  0.596466\n",
       "Placebo               54.033581  52.288934  61.168083  7.821003  0.581331\n",
       "Propriva              52.393463  50.909965  43.138803  6.568014  0.525862\n",
       "Ramicane              40.216745  40.673236  23.486704  4.846308  0.320955\n",
       "Stelasyn              54.233149  52.431737  59.450562  7.710419  0.573111\n",
       "Zoniferol             53.236507  51.818479  48.533355  6.966589  0.516398"
      ]
     },
     "execution_count": 8,
     "metadata": {},
     "output_type": "execute_result"
    }
   ],
   "source": [
    "# Generate a summary statistics table of mean, median, variance, standard deviation, and SEM of the tumor volume for each regimen\n",
    "\n",
    "# This method produces everything in a single groupby function.\n",
    "\n",
    "regimen_summary = clean_mouse_data.groupby('Drug Regimen').agg({'Tumor Volume (mm3)' : ['mean','median','var','std','sem']})\n",
    "regimen_summary"
   ]
  },
  {
   "cell_type": "markdown",
   "metadata": {},
   "source": [
    "## Bar Plots"
   ]
  },
  {
   "cell_type": "code",
   "execution_count": 53,
   "metadata": {},
   "outputs": [
    {
     "data": {
      "text/plain": [
       "<function matplotlib.pyplot.show(*args, **kw)>"
      ]
     },
     "execution_count": 53,
     "metadata": {},
     "output_type": "execute_result"
    },
    {
     "data": {
      "image/png": "[encoded data removed]",
      "text/plain": [
       "<Figure size 432x288 with 1 Axes>"
      ]
     },
     "metadata": {},
     "output_type": "display_data"
    }
   ],
   "source": [
    "# Generate a bar plot showing the number of mice per time point for each treatment throughout the course of the study using \n",
    "# pandas. Create a group based on the drug regimen and the timepoints.  From there you can get the number of x items to be displayed \n",
    "# based on the size of the grp.  The Y axis is the count of the Mouse ID column in the group.\n",
    "\n",
    "clean_grp = clean_mouse_data.groupby(['Drug Regimen','Timepoint'])\n",
    "x_axis = np.arange(0, len(clean_grp), 1)\n",
    "y_axis = clean_grp['Mouse ID'].count()\n",
    "\n",
    "# The ticks are the drug regiment and timepoint.  I stopped completing this since the requirements changed and the next 2 cells \n",
    "# cover the new requirements\n",
    "tick_locations = []\n",
    "tick_locations = clean_mouse_data[['Drug Regimen','Timepoint']].keys().tolist()\n",
    "\n",
    "plt.bar(x_axis, y_axis, facecolor=\"red\", alpha=0.75, align=\"center\")\n",
    "\n",
    "plt.show"
   ]
  },
  {
   "cell_type": "code",
   "execution_count": 24,
   "metadata": {},
   "outputs": [
    {
     "data": {
      "text/plain": [
       "<function matplotlib.pyplot.show(*args, **kw)>"
      ]
     },
     "execution_count": 24,
     "metadata": {},
     "output_type": "execute_result"
    },
    {
     "data": {
      "image/png": "[encoded data removed]",
      "text/plain": [
       "<Figure size 432x288 with 1 Axes>"
      ]
     },
     "metadata": {
      "needs_background": "light"
     },
     "output_type": "display_data"
    }
   ],
   "source": [
    "# Generate a bar plot showing the number of mice per time point for each treatment throughout the course of the study \n",
    "# using pyplot. Create a group based on the Drug Regimen and then count the number of mice per Regimen.\n",
    "\n",
    "clean_grp = clean_mouse_data.groupby(['Drug Regimen'])\n",
    "\n",
    "# the x axis is the regimens. which is the size of the group.  The y Axis is the count\n",
    "x_axis = np.arange(0, len(clean_grp), 1)\n",
    "y_axis = clean_grp['Mouse ID'].count()\n",
    "\n",
    "# Place the Regimen names in the appropriate tick location and rotate 90 degrees for readability\n",
    "tick_locations = [value for value in x_axis]\n",
    "plt.xticks(tick_locations, clean_mouse_data['Drug Regimen'].unique(),rotation=90 )\n",
    "\n",
    "# Set the Title, y and x labels.\n",
    "plt.title(\"Mice count per Drug Regimen\")\n",
    "plt.ylabel(\"Mice\")\n",
    "plt.xlabel(\"Drug Regimens\")\n",
    "\n",
    "# Plot out the graph.\n",
    "plt.bar(x_axis, y_axis, facecolor=\"red\", alpha=0.75, align=\"center\")\n",
    "plt.show"
   ]
  },
  {
   "cell_type": "code",
   "execution_count": 25,
   "metadata": {},
   "outputs": [
    {
     "data": {
      "text/plain": [
       "Text(0.5, 1.0, 'Mice / Drug Regimen Relationship')"
      ]
     },
     "execution_count": 25,
     "metadata": {},
     "output_type": "execute_result"
    },
    {
     "data": {
      "image/png": "[encoded data removed]",
      "text/plain": [
       "<Figure size 432x288 with 1 Axes>"
      ]
     },
     "metadata": {
      "needs_background": "light"
     },
     "output_type": "display_data"
    }
   ],
   "source": [
    "# Generate a bar plot showing the number of mice per time point for each treatment throughout the course of the study using pandas.# Generate a bar plot showing the number of mice per time point for each treatment throughout the course of the study using pyplot.\n",
    "# use the group created earlier and grab the count of mice.\n",
    "\n",
    "clean_grp_bar = clean_grp[\"Mouse ID\"].count()\n",
    "\n",
    "# Plot the bar graph.\n",
    "Multi_plot = clean_grp_bar.plot(kind=\"bar\")\n",
    "\n",
    "# Set the xlabel and ylabel using class methods\n",
    "Multi_plot.set_xlabel(\"Drug Regimens\")\n",
    "Multi_plot.set_ylabel(\"Number of Mice\")\n",
    "Multi_plot.set_title(\"Mice / Drug Regimen Relationship\")\n"
   ]
  },
  {
   "cell_type": "markdown",
   "metadata": {},
   "source": [
    "## Pie Plots"
   ]
  },
  {
   "cell_type": "code",
   "execution_count": 92,
   "metadata": {},
   "outputs": [
    {
     "data": {
      "text/plain": [
       "Text(0.5, 1.0, 'Gender Demographics')"
      ]
     },
     "execution_count": 92,
     "metadata": {},
     "output_type": "execute_result"
    },
    {
     "data": {
      "image/png": "[encoded data removed]",
      "text/plain": [
       "<Figure size 432x288 with 1 Axes>"
      ]
     },
     "metadata": {},
     "output_type": "display_data"
    }
   ],
   "source": [
    "# Generate a pie plot showing the distribution of female versus male mice using pandas.  Create a group based on the sex column.\n",
    "clean_gender_grp = clean_mouse_data.groupby(\"Sex\")\n",
    "\n",
    "# create a pie chart with the counts of male and female mice\n",
    "clean_grp_pie = clean_gender_grp[\"Mouse ID\"].count()\n",
    "\n",
    "# Plot the information.\n",
    "gender_plot = clean_grp_pie.plot(kind=\"pie\",autopct=\"%1.1f%%\")\n",
    "gender_plot.set_title(\"Gender Demographics\")"
   ]
  },
  {
   "cell_type": "code",
   "execution_count": 13,
   "metadata": {},
   "outputs": [
    {
     "data": {
      "image/png": "[encoded data removed]",
      "text/plain": [
       "<Figure size 432x288 with 1 Axes>"
      ]
     },
     "metadata": {},
     "output_type": "display_data"
    }
   ],
   "source": [
    "# Generate a pie plot showing the distribution of female versus male mice using pyplot.\n",
    "# Use the group from above and use Pyplot to produce the plot.\n",
    "\n",
    "plt.title(\"Gender Demographics\")\n",
    "colors=[\"blue\",\"orange\"]\n",
    "labels = [\"Female\",\"Male\"]\n",
    "\n",
    "plt.pie(clean_grp_pie,colors=colors,labels = labels, autopct=\"%1.1f%%\", shadow=True)\n",
    "plt.show()"
   ]
  },
  {
   "cell_type": "markdown",
   "metadata": {},
   "source": [
    "## Quartiles, Outliers and Boxplots"
   ]
  },
  {
   "cell_type": "code",
   "execution_count": 63,
   "metadata": {},
   "outputs": [
    {
     "name": "stdout",
     "output_type": "stream",
     "text": [
      "Drug Regimen: Ramicane\n",
      "IQR: 9.0985  Lower Bound is 17.9127  and the upper bound is 54.3068\n",
      " \n",
      "Drug Regimen: Capomulin\n",
      "IQR: 7.7819  Lower Bound is 20.7046  and the upper bound is 51.832\n",
      " \n",
      "Drug Regimen: Infubinol\n",
      "IQR: 11.4771  Lower Bound is 36.8329  and the upper bound is 82.7414\n",
      " \n",
      "Drug Regimen: Ceftamin\n",
      "IQR: 15.5778  Lower Bound is 25.3554  and the upper bound is 87.6665\n",
      " \n"
     ]
    },
    {
     "data": {
      "image/png": "[encoded data removed]",
      "text/plain": [
       "<Figure size 720x576 with 1 Axes>"
      ]
     },
     "metadata": {},
     "output_type": "display_data"
    }
   ],
   "source": [
    "# Calculate the final tumor volume of each mouse across four of the most promising treatment regimens. Calculate the IQR and quantitatively determine if there are any potential outliers. \n",
    "# The list of top 4 Regimens were given, but if you look at the summary table they are the Regimens with the lost tumor\n",
    "# size.\n",
    "\n",
    "Regimen_list = [\"Ramicane\",\"Capomulin\",\"Infubinol\",\"Ceftamin\"]\n",
    "\n",
    "# Take a copy of the df and only include the 4 Regimens\n",
    "timepoint = clean_mouse_data.copy()\n",
    "timepoint = timepoint.loc[timepoint['Drug Regimen'].isin(Regimen_list),]\n",
    "\n",
    "# Find the last tumor volume of for each mouse\n",
    "max_timepoint = timepoint.groupby('Mouse ID').last()\n",
    "\n",
    "# Not sure this is needed, but calulate the IQR and the upper and lower boundaries for each individual Regimens.\n",
    "# For each Regimen in the list, loop through and perform the calculations.\n",
    "for x in Regimen_list:\n",
    "    print(\"Drug Regimen: \" + x)                                              # Print out the Regimen\n",
    "    \n",
    "    # just have a gropu for that regimen and get the last value per mouse\n",
    "    temp = timepoint.loc[timepoint['Drug Regimen'].isin([x]),]\n",
    "    temp_timepoint = temp.groupby('Mouse ID').last()\n",
    "    \n",
    "    #Use quantile to get the 1QR and 3QR, and from there calculate the IQR\n",
    "    Q1 = temp_timepoint['Tumor Volume (mm3)'].quantile(0.25)\n",
    "    Q3 = temp_timepoint['Tumor Volume (mm3)'].quantile(0.75)\n",
    "    IQR = Q3-Q1\n",
    "    \n",
    "    # From the IQR calculate the lower and upper bounds\n",
    "    lower_bound = Q1 - 1.5 * IQR\n",
    "    upper_bound = Q3 + 1.5 * IQR\n",
    "    print(f\"IQR: {round(IQR,4)}  Lower Bound is {round(lower_bound,4)}  and the upper bound is {round(upper_bound,4)}\")\n",
    "    print(\" \")\n",
    "\n",
    "# Plot the information for all four Regimens\n",
    "tumor_plot = max_timepoint.boxplot(by ='Drug Regimen', column =['Tumor Volume (mm3)'], grid = True,widths=0.5,figsize=(10,8)) \n",
    "tumor_plot.set_ylabel = 'Tumor Volume'\n",
    "plt.show()"
   ]
  },
  {
   "cell_type": "code",
   "execution_count": 49,
   "metadata": {},
   "outputs": [
    {
     "data": {
      "text/plain": [
       "<matplotlib.axes._subplots.AxesSubplot at 0x25c09001ef0>"
      ]
     },
     "execution_count": 49,
     "metadata": {},
     "output_type": "execute_result"
    },
    {
     "data": {
      "image/png": "[encoded data removed]",
      "text/plain": [
       "<Figure size 432x288 with 1 Axes>"
      ]
     },
     "metadata": {},
     "output_type": "display_data"
    }
   ],
   "source": [
    "# Generate a box plot of the final tumor volume of each mouse across four regimens of interest\n",
    "sns.set_style(\"whitegrid\") \n",
    "  \n",
    "sns.boxplot(x = 'Drug Regimen', y = 'Tumor Volume (mm3)', data = max_timepoint)\n"
   ]
  },
  {
   "cell_type": "markdown",
   "metadata": {},
   "source": [
    "## Line and Scatter Plots"
   ]
  },
  {
   "cell_type": "code",
   "execution_count": 61,
   "metadata": {},
   "outputs": [
    {
     "name": "stdout",
     "output_type": "stream",
     "text": [
      "['b128' 'j246' 'r554' 's185' 'b742' 'x401' 'l509' 's710' 'r157' 'u364'\n",
      " 'j119' 'v923' 'w914' 'i738' 'r944' 'y793' 'g316' 'g288' 'l897' 'w150'\n",
      " 't565' 'i557' 'm957' 'f966' 'm601' 'l509' 'l897' 'w150' 's710' 'w914'\n",
      " 'm601' 'u364' 'b742' 'v923' 'f966' 'x401' 'j119' 'i557' 'y793' 'g316'\n",
      " 'r157' 'r944' 'r554' 's185' 'i738' 'j246' 't565' 'b128' 'g288' 'm957'\n",
      " 'r554' 'u364' 'v923' 'g288' 's710' 'l509' 'i738' 'm957' 'j119' 'i557'\n",
      " 'g316' 'y793' 'f966' 'm601' 'l897' 'r944' 'w914' 'w150' 't565' 's185'\n",
      " 'b128' 'b742' 'x401' 'j246' 'r157' 's185' 'b128' 'g288' 'i738' 'm957'\n",
      " 'r944' 'y793' 't565' 'j246' 'r157' 'g316' 'r554' 'j119' 'b742' 'x401'\n",
      " 'i557' 'u364' 'l897' 'm601' 'w914' 's710' 'l509' 'f966' 'v923' 'u364'\n",
      " 'f966' 'b128' 'b742' 'r554' 'm957' 's185' 'l509' 'w914' 'l897' 'r944'\n",
      " 'j119' 'g316' 'j246' 'v923' 't565' 'y793' 'i557' 'g288' 'i738' 'm601'\n",
      " 's710' 'x401' 'r944' 's710' 'j119' 't565' 'l509' 'i557' 'x401' 'l897'\n",
      " 'w914' 'm601' 's185' 'u364' 'b742' 'v923' 'r554' 'g288' 'g316' 'b128'\n",
      " 'm957' 'j246' 'i738' 'y793' 'v923' 'b742' 'i557' 'u364' 'g316' 'r554'\n",
      " 'j246' 'w914' 'm601' 'x401' 's185' 'l897' 'g288' 'b128' 'm957' 'r944'\n",
      " 'l509' 't565' 'j119' 's710' 'i738' 'y793' 'l897' 's185' 'w914' 'j246'\n",
      " 'l509' 'i738' 'm601' 'x401' 't565' 'r554' 'g288' 'b128' 'r944' 'g316'\n",
      " 'y793' 'u364' 'i557' 'j119' 's710' 'm957' 'b742' 'v923' 'b128' 'r944'\n",
      " 's185' 'm601' 't565' 's710' 'j119' 'b742' 'v923' 'u364' 'm957' 'y793'\n",
      " 'i557' 'g316' 'l509' 'w914' 'r554' 'i738' 'x401' 'l897' 'g288' 'b128'\n",
      " 't565' 'l509' 'g288' 'r554' 'g316' 'y793' 'm957' 'l897' 'v923' 'b742'\n",
      " 'w914' 'm601' 'x401' 's185' 'i738' 's710' 'j119' 'i557' 'r944' 'u364']\n",
      "please enter a mouse ID: j246\n"
     ]
    },
    {
     "data": {
      "text/plain": [
       "Text(0, 0.5, 'Tumor size')"
      ]
     },
     "execution_count": 61,
     "metadata": {},
     "output_type": "execute_result"
    },
    {
     "data": {
      "image/png": "[encoded data removed]",
      "text/plain": [
       "<Figure size 432x288 with 1 Axes>"
      ]
     },
     "metadata": {},
     "output_type": "display_data"
    }
   ],
   "source": [
    "# Generate a line plot of time point versus tumor volume for a mouse treated with Capomulin\n",
    "\n",
    "# create a dataframe with just the Capomulin regimen\n",
    "capo_df = clean_mouse_data.loc[clean_mouse_data['Drug Regimen'] == 'Capomulin']\n",
    "\n",
    "# list out the Mouse IDs to select from\n",
    "mouseids = capo_df['Mouse ID'].values\n",
    "print(pd.Series(mouseids).values)\n",
    "\n",
    "# Request the user to enter a mouse ID\n",
    "mouse = input(\"please enter a mouse ID: \")\n",
    "mouse_df = capo_df.loc[capo_df['Mouse ID'] == mouse]\n",
    "\n",
    "# Plot the line chart for the mouse identified\n",
    "line_plot = mouse_df.set_index('Timepoint')['Tumor Volume (mm3)'].plot();\n",
    "line_plot.set_title(f'Mouse ID: {mouse}')\n",
    "line_plot.set_ylabel('Tumor size')"
   ]
  },
  {
   "cell_type": "code",
   "execution_count": 59,
   "metadata": {},
   "outputs": [
    {
     "data": {
      "image/png": "[encoded data removed]",
      "text/plain": [
       "<Figure size 576x576 with 1 Axes>"
      ]
     },
     "metadata": {},
     "output_type": "display_data"
    }
   ],
   "source": [
    "# Generate a scatter plot of mouse weight versus average tumor volume for the Capomulin regime\n",
    "\n",
    "# Get the mean of the tumor size per mouse for the drug regiment Capomulin\n",
    "tumor_mouse_mean = capo_df.groupby('Mouse ID')['Tumor Volume (mm3)'].mean()\n",
    "\n",
    "# create a dataframe to merge it with the other data\n",
    "df = pd.DataFrame(tumor_mouse_mean)\n",
    "\n",
    "# rename the column\n",
    "df = df.rename(columns = {'Tumor Volume (mm3)' : 'Average Tumor'})\n",
    "\n",
    "# merge the 2 dataframes together\n",
    "scatter_df = pd.merge(df,capo_df,how='left',on='Mouse ID')\n",
    "\n",
    "# create a scatter plot of the data\n",
    "scatter_df.plot(kind=\"scatter\", x=\"Weight (g)\", y=\"Average Tumor\", grid=True, figsize=(8,8), title=\"Avg Tumor Volume (mm3) vs mouse weight\")\n",
    "\n",
    "plt.show()"
   ]
  },
  {
   "cell_type": "markdown",
   "metadata": {},
   "source": [
    "## Correlation and Regression"
   ]
  },
  {
   "cell_type": "code",
   "execution_count": 69,
   "metadata": {},
   "outputs": [
    {
     "name": "stdout",
     "output_type": "stream",
     "text": [
      "The correlation between both factors is 0.83\n"
     ]
    },
    {
     "data": {
      "image/png": "[encoded data removed]",
      "text/plain": [
       "<Figure size 432x288 with 1 Axes>"
      ]
     },
     "metadata": {},
     "output_type": "display_data"
    }
   ],
   "source": [
    "# Calculate the correlation coefficient and linear regression model \n",
    "# for mouse weight and average tumor volume for the Capomulin regimen\n",
    "\n",
    "# get the mouse weight and average tumor size from the scatter_dataframe\n",
    "mouse_weight = scatter_df.iloc[:,8]\n",
    "average_tumor = scatter_df.iloc[:,1]\n",
    "\n",
    "# Generate the pearson coeeficient\n",
    "correlation = st.pearsonr(mouse_weight,average_tumor)\n",
    "print(f\"The correlation between both factors is {round(correlation[0],2)}\")\n",
    "\n",
    "# Set the x and values\n",
    "x_values = scatter_df['Weight (g)']\n",
    "y_values = scatter_df['Average Tumor']\n",
    "\n",
    "# Get the linear regression model\n",
    "(slope, intercept, rvalue, pvalue, stderr) = linregress(x_values, y_values)\n",
    "\n",
    "# Create the line using the slope and intercept and print out the formula\n",
    "regress_values = x_values * slope + intercept\n",
    "line_eq = \"y = \" + str(round(slope,2)) + \"x + \" + str(round(intercept,2))\n",
    "\n",
    "# Plot information\n",
    "plt.scatter(x_values,y_values)\n",
    "plt.plot(x_values,regress_values,\"r-\")\n",
    "plt.annotate(line_eq,(12,30),fontsize=15,color=\"red\")\n",
    "plt.xlabel('Weight')\n",
    "plt.ylabel('Average Tumor size (mm3)')\n",
    "plt.show()\n"
   ]
  },
  {
   "cell_type": "code",
   "execution_count": null,
   "metadata": {},
   "outputs": [],
   "source": []
  }
 ],
 "metadata": {
  "anaconda-cloud": {},
  "kernelspec": {
   "display_name": "Python [conda env:PythonData] *",
   "language": "python",
   "name": "conda-env-PythonData-py"
  },
  "language_info": {
   "codemirror_mode": {
    "name": "ipython",
    "version": 3
   },
   "file_extension": ".py",
   "mimetype": "text/x-python",
   "name": "python",
   "nbconvert_exporter": "python",
   "pygments_lexer": "ipython3",
   "version": "3.6.10"
  }
 },
 "nbformat": 4,
 "nbformat_minor": 2
}
